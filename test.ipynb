{
 "cells": [
  {
   "cell_type": "code",
   "execution_count": null,
   "metadata": {},
   "outputs": [],
   "source": [
    "import numpy as np\n",
    "import matplotlib.pyplot as plt\n",
    "from sklearn.metrics import accuracy_score, f1_score\n",
    "from sklearn.tree import DecisionTreeClassifier\n",
    "from sklearn.svm import SVC\n",
    "\n",
    "# Assuming X_train, X_test, y_train, y_test are already defined\n",
    "\n",
    "# Train the models\n",
    "decision_tree = DecisionTreeClassifier()\n",
    "svm = SVC(probability=True)\n",
    "\n",
    "decision_tree.fit(X_train, y_train)\n",
    "svm.fit(X_train, y_train)\n",
    "\n",
    "# Get predictions (probabilities)\n",
    "dt_probs = decision_tree.predict_proba(X_test)\n",
    "svm_probs = svm.predict_proba(X_test)\n",
    "\n",
    "# Define a range of weights for SVM, the weight for Decision Tree will be (1 - w_svm)\n",
    "weights = np.linspace(0, 1, 50)\n",
    "\n",
    "accuracies = []\n",
    "f1_scores = []\n",
    "\n",
    "for w_svm in weights:\n",
    "    w_dt = 1 - w_svm\n",
    "    \n",
    "    # Compute the weighted average of probabilities\n",
    "    weighted_probs = (w_dt * dt_probs) + (w_svm * svm_probs)\n",
    "    \n",
    "    # Final predictions based on weighted probabilities\n",
    "    final_predictions = np.argmax(weighted_probs, axis=1)\n",
    "    \n",
    "    # Compute metrics\n",
    "    acc = accuracy_score(y_test, final_predictions)\n",
    "    f1 = f1_score(y_test, final_predictions, average='weighted')\n",
    "    \n",
    "    accuracies.append(acc)\n",
    "    f1_scores.append(f1)\n",
    "\n",
    "# Plot the results\n",
    "plt.figure(figsize=(12, 6))\n",
    "\n",
    "plt.plot(weights, accuracies, label='Accuracy', marker='o')\n",
    "plt.plot(weights, f1_scores, label='F1 Score', marker='o')\n",
    "\n",
    "plt.xlabel('Weight for SVM')\n",
    "plt.ylabel('Metric Value')\n",
    "plt.title('Accuracy and F1 Score vs. Weight for SVM')\n",
    "plt.legend()\n",
    "plt.grid(True)\n",
    "\n",
    "plt.show()\n"
   ]
  },
  {
   "cell_type": "code",
   "execution_count": null,
   "metadata": {},
   "outputs": [],
   "source": []
  }
 ],
 "metadata": {
  "kernelspec": {
   "display_name": "base",
   "language": "python",
   "name": "python3"
  },
  "language_info": {
   "name": "python",
   "version": "3.8.19"
  },
  "orig_nbformat": 4
 },
 "nbformat": 4,
 "nbformat_minor": 2
}
